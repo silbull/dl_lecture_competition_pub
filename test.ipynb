{
 "cells": [
  {
   "cell_type": "code",
   "execution_count": 3,
   "metadata": {},
   "outputs": [
    {
     "name": "stdout",
     "output_type": "stream",
     "text": [
      "torch.Size([16432])\n"
     ]
    }
   ],
   "source": [
    "import torch\n",
    "\n",
    "# .ptファイルのパスを指定\n",
    "pt_file_path = 'logs/20240714T224731/models/model_best.pt'\n",
    "pt_file_path = \"data/val_subject_idxs.pt\"\n",
    "\n",
    "# ファイルを読み込む\n",
    "loaded_data = torch.load(pt_file_path, map_location=torch.device('cpu'))\n",
    "\n",
    "# 読み込んだデータの内容を表示\n",
    "print(loaded_data.shape)\n",
    "\n",
    "# もし読み込んだデータが辞書型の場合、キーを確認することもできます\n",
    "if isinstance(loaded_data, dict):\n",
    "    print(\"Keys in the loaded data:\")\n",
    "    for key in loaded_data.keys():\n",
    "        print(key)\n",
    "\n",
    "# 特定のキーの内容を詳しく見たい場合\n",
    "# print(loaded_data['specific_key'])"
   ]
  },
  {
   "cell_type": "code",
   "execution_count": 1,
   "metadata": {},
   "outputs": [
    {
     "name": "stdout",
     "output_type": "stream",
     "text": [
      "True\n",
      "4\n"
     ]
    }
   ],
   "source": [
    "import torch\n",
    "\n",
    "print(torch.cuda.is_available())\n",
    "print(torch.cuda.device_count())"
   ]
  }
 ],
 "metadata": {
  "kernelspec": {
   "display_name": "dlbasics",
   "language": "python",
   "name": "python3"
  },
  "language_info": {
   "codemirror_mode": {
    "name": "ipython",
    "version": 3
   },
   "file_extension": ".py",
   "mimetype": "text/x-python",
   "name": "python",
   "nbconvert_exporter": "python",
   "pygments_lexer": "ipython3",
   "version": "3.10.13"
  }
 },
 "nbformat": 4,
 "nbformat_minor": 2
}
